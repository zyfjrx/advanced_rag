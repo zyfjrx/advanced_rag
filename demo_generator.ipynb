{
 "cells": [
  {
   "cell_type": "code",
   "id": "initial_id",
   "metadata": {
    "collapsed": true,
    "ExecuteTime": {
     "end_time": "2025-09-15T07:39:41.037817Z",
     "start_time": "2025-09-15T07:39:40.542864Z"
    }
   },
   "source": [
    "import os\n",
    "import torch\n",
    "from dotenv import load_dotenv\n",
    "from langchain_chroma import Chroma\n",
    "from langchain_core.prompts import PromptTemplate\n",
    "from langchain_community.llms.tongyi import Tongyi\n",
    "from langchain_huggingface import HuggingFaceEmbeddings\n",
    "from langchain_core.output_parsers import StrOutputParser\n",
    "from langchain_core.runnables.passthrough import RunnablePassthrough\n",
    "\n",
    "# 加载嵌入模型\n",
    "embedding_model = HuggingFaceEmbeddings(\n",
    "    model_name=\"/Users/zhangyf/llm/bge-base-zh-v1.5\",\n",
    "    model_kwargs={\"device\": \"mps\" if torch.mps.is_available() else \"cpu\"},\n",
    "    encode_kwargs={\"normalize_embeddings\": True},\n",
    ")\n",
    "\n",
    "# 初始化 Chroma 客户端\n",
    "vectorstore = Chroma(\n",
    "    persist_directory=\"vectorstore\",\n",
    "    embedding_function=embedding_model,\n",
    ")\n",
    "\n",
    "# 创建检索器\n",
    "retriever = vectorstore.as_retriever(\n",
    "    search_type=\"similarity\",  # 检索方式，similarity 或 mmr\n",
    "    search_kwargs={\"k\": 3},\n",
    ")\n"
   ],
   "outputs": [],
   "execution_count": 3
  },
  {
   "metadata": {
    "ExecuteTime": {
     "end_time": "2025-09-15T08:23:59.537798Z",
     "start_time": "2025-09-15T08:23:58.674546Z"
    }
   },
   "cell_type": "code",
   "source": [
    "# 检索与生成链条\n",
    "load_dotenv()\n",
    "TONGYI_API_KEY = os.getenv(\"TONGYI_API_KEY\")\n",
    "# 大模型\n",
    "llm = Tongyi(model=\"qwen-turbo\", api_key=TONGYI_API_KEY)\n",
    "# 本地模型\n",
    "\n",
    "\n",
    "# 将检索到的文档中的 page_content 取出组合到一起\n",
    "def format_docs(docs):\n",
    "    return \"\\n\\n\".join(doc.page_content for doc in docs)\n",
    "\n",
    "# Prompt 模板\n",
    "prompt = PromptTemplate(\n",
    "    input_variables=[\"context\", \"query\"],\n",
    "    template=\"\"\"\n",
    "你是一个专业的中文问答助手，擅长基于提供的资料回答用户问题。\n",
    "请仅根据以下背景资料回答问题，如无法找到答案，请直接回答“我不知道”。\n",
    "\n",
    "背景资料：{context}\n",
    "\n",
    "问题：{query}\n",
    "\n",
    "回答：\"\"\",\n",
    ")\n",
    "\n",
    "\n",
    "\n",
    "# RAG 链条\n",
    "rag_chain = (\n",
    "    {\"context\": retriever | format_docs, \"query\": RunnablePassthrough()}\n",
    "    | prompt\n",
    "    | (lambda x: print(x.text, end=\"\") or x)\n",
    "    | llm\n",
    "    | StrOutputParser()  # 输出解析器，将输出解析为字符串\n",
    ")\n",
    "\n",
    "# query = \"不动产或者动产被占有人占有怎么办\"\n",
    "query = \"今天天气怎么样？\"\n",
    "response = rag_chain.invoke(query)\n",
    "print(response)\n"
   ],
   "id": "10c5a035db7227d",
   "outputs": [
    {
     "name": "stdout",
     "output_type": "stream",
     "text": [
      "\n",
      "你是一个专业的中文问答助手，擅长基于提供的资料回答用户问题。\n",
      "请仅根据以下背景资料回答问题，如无法找到答案，请直接回答“我不知道”。\n",
      "\n",
      "背景资料：(一 ) 政府 采购 情况 说 明\n",
      "\n",
      "2023 年 是 深入 推 进 实施 “十 四 五 ?战略 规划 、 五 规划 目标 实现 的 关键 之 年 , 抢 抓 机 遇 争 取 承 担 国 推动 * 十 家 重大 科 四 技 任务 ， 管 理 运行 好 重大 观测 设施 ， 组 织 做 好 各 类 科学 数据 处 理 的 应 用 研究 工作 ， 努 力 产 出 更 多 更 大 科学 成 果 。\n",
      "\n",
      "2023 年 工作 总 体 思路 是 : 深入 学 习 贯 彻 党 的 二 十 大 精 神 ， 沙 实 党 的 全 面 领导 ， 落 实 党 中 央 、 国 务 院 和 院 党 组 重 决策 部 署 ， 面 向 国家 重大 需求 、 面 向 国际 天 文科 技 前 沿 、 面 向 经 济 主 战场 ， 加 快 j 全 进 国 家 “十 四 五 ?科技 发 展 规划 实施 ， 加 快 建设 和 持续 推进 国家 重点 实验 室 重 组 工作 ， 加 快 协 同 凝 聚 天 文 领域 科研 队伍 ， 加 强 青年 人 才 队 伍 建设 ， 加 质量 发 展 新 阶段 ， 为 创新 型 国 ATK. 更 REN 家 和 世界 科技 强国 建设 做 出\n",
      "\n",
      "问题：今天天气怎么样？\n",
      "\n",
      "回答：我不知道\n"
     ]
    }
   ],
   "execution_count": 7
  }
 ],
 "metadata": {
  "kernelspec": {
   "display_name": "Python 3",
   "language": "python",
   "name": "python3"
  },
  "language_info": {
   "codemirror_mode": {
    "name": "ipython",
    "version": 2
   },
   "file_extension": ".py",
   "mimetype": "text/x-python",
   "name": "python",
   "nbconvert_exporter": "python",
   "pygments_lexer": "ipython2",
   "version": "2.7.6"
  }
 },
 "nbformat": 4,
 "nbformat_minor": 5
}
