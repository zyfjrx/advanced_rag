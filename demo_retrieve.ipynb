{
 "cells": [
  {
   "cell_type": "code",
   "id": "initial_id",
   "metadata": {
    "collapsed": true,
    "ExecuteTime": {
     "end_time": "2025-09-15T07:03:10.052082Z",
     "start_time": "2025-09-15T07:03:06.147727Z"
    }
   },
   "source": [
    "from langchain_chroma import Chroma\n",
    "import torch\n",
    "from langchain_huggingface import HuggingFaceEmbeddings\n",
    "\n",
    "# 加载嵌入模型\n",
    "embedding_model = HuggingFaceEmbeddings(\n",
    "    model_name=\"/Users/zhangyf/llm/bge-base-zh-v1.5\",\n",
    "    model_kwargs={\"device\": \"mps\" if torch.mps.is_available() else \"cpu\"},\n",
    "    encode_kwargs={\n",
    "        \"normalize_embeddings\": True\n",
    "    },  # 输出归一化向量，更适合余弦相似度计算\n",
    ")\n",
    "# 初始化 Chroma 客户端\n",
    "vectorstore = Chroma(\n",
    "    persist_directory=\"vectorstore\",\n",
    "    embedding_function=embedding_model,\n",
    ")\n"
   ],
   "outputs": [
    {
     "name": "stderr",
     "output_type": "stream",
     "text": [
      "/opt/anaconda3/envs/rag/lib/python3.10/site-packages/tqdm/auto.py:21: TqdmWarning: IProgress not found. Please update jupyter and ipywidgets. See https://ipywidgets.readthedocs.io/en/stable/user_install.html\n",
      "  from .autonotebook import tqdm as notebook_tqdm\n"
     ]
    }
   ],
   "execution_count": 1
  },
  {
   "metadata": {
    "ExecuteTime": {
     "end_time": "2025-09-15T07:03:30.578169Z",
     "start_time": "2025-09-15T07:03:30.436232Z"
    }
   },
   "cell_type": "code",
   "source": [
    "# 相似度检索\n",
    "query = \"不动产或者动产被占有人占有怎么办\"\n",
    "sim_docs = vectorstore.similarity_search(query, k=3)  # 返回 3 条结果\n",
    "for doc in sim_docs:\n",
    "    print(doc)\n"
   ],
   "id": "d98ed6a8e3417370",
   "outputs": [
    {
     "name": "stdout",
     "output_type": "stream",
     "text": [
      "page_content='第四百五十七条　留置权人对留置财产丧失占有或者留置权人接受债务人另行提供担保的，留置权消灭。\n",
      "\n",
      "第五分编　占有\n",
      "\n",
      "第二十章　占有\n",
      "\n",
      "第四百五十八条　基于合同关系等产生的占有，有关不动产或者动产的使用、收益、违约责任等，按照合同约定；合同没有约定或者约定不明确的，依照有关法律规定。\n",
      "\n",
      "第四百五十九条　占有人因使用占有的不动产或者动产，致使该不动产或者动产受到损害的，恶意占有人应当承担赔偿责任。\n",
      "\n",
      "第四百六十条　不动产或者动产被占有人占有的，权利人可以请求返还原物及其孳息；但是，应当支付善意占有人因维护该不动产或者动产支出的必要费用。\n",
      "\n",
      "第四百六十一条　占有的不动产或者动产毁损、灭失，该不动产或者动产的权利人请求赔偿的，占有人应当将因毁损、灭失取得的保险金、赔偿金或者补偿金等返还给权利人；权利人的损害未得到足够弥补的，恶意占有人还应当赔偿损失。' metadata={'source': 'knowledge_base/sample.docx'}\n",
      "page_content='第二百一十九条　利害关系人不得公开、非法使用权利人的不动产登记资料。\n",
      "\n",
      "第二百二十条　权利人、利害关系人认为不动产登记簿记载的事项错误的，可以申请更正登记。不动产登记簿记载的权利人书面同意更正或者有证据证明登记确有错误的，登记机构应当予以更正。\n",
      "\n",
      "不动产登记簿记载的权利人不同意更正的，利害关系人可以申请异议登记。登记机构予以异议登记，申请人自异议登记之日起十五日内不提起诉讼的，异议登记失效。异议登记不当，造成权利人损害的，权利人可以向申请人请求损害赔偿。\n",
      "\n",
      "第二百二十一条　当事人签订买卖房屋的协议或者签订其他不动产物权的协议，为保障将来实现物权，按照约定可以向登记机构申请预告登记。预告登记后，未经预告登记的权利人同意，处分该不动产的，不发生物权效力。\n",
      "\n",
      "预告登记后，债权消灭或者自能够进行不动产登记之日起九十日内未申请登记的，预告登记失效。' metadata={'source': 'knowledge_base/sample.docx'}\n",
      "page_content='第二章　物权的设立、变更、转让和消灭\n",
      "\n",
      "第一节　不动产登记\n",
      "\n",
      "第二百零九条　不动产物权的设立、变更、转让和消灭，经依法登记，发生效力；未经登记，不发生效力，但是法律另有规定的除外。\n",
      "\n",
      "依法属于国家所有的自然资源，所有权可以不登记。\n",
      "\n",
      "第二百一十条　不动产登记，由不动产所在地的登记机构办理。\n",
      "\n",
      "国家对不动产实行统一登记制度。统一登记的范围、登记机构和登记办法，由法律、行政法规规定。\n",
      "\n",
      "第二百一十一条　当事人申请登记，应当根据不同登记事项提供权属证明和不动产界址、面积等必要材料。\n",
      "\n",
      "第二百一十二条　登记机构应当履行下列职责：\n",
      "\n",
      "（一）查验申请人提供的权属证明和其他必要材料；\n",
      "\n",
      "（二）就有关登记事项询问申请人；\n",
      "\n",
      "（三）如实、及时登记有关事项；\n",
      "\n",
      "（四）法律、行政法规规定的其他职责。\n",
      "\n",
      "申请登记的不动产的有关情况需要进一步证明的，登记机构可以要求申请人补充材料，必要时可以实地查看。' metadata={'source': 'knowledge_base/sample.docx'}\n"
     ]
    }
   ],
   "execution_count": 2
  },
  {
   "metadata": {
    "ExecuteTime": {
     "end_time": "2025-09-15T07:03:44.803108Z",
     "start_time": "2025-09-15T07:03:44.756518Z"
    }
   },
   "cell_type": "code",
   "source": [
    "# 最大边际相关性检索\n",
    "query = \"不动产或者动产被占有人占有怎么办\"\n",
    "sim_docs = vectorstore.max_marginal_relevance_search(query, k=3)\n",
    "for doc in sim_docs:\n",
    "    print(doc)\n"
   ],
   "id": "19981526ffb674cd",
   "outputs": [
    {
     "name": "stdout",
     "output_type": "stream",
     "text": [
      "page_content='第四百五十七条　留置权人对留置财产丧失占有或者留置权人接受债务人另行提供担保的，留置权消灭。\n",
      "\n",
      "第五分编　占有\n",
      "\n",
      "第二十章　占有\n",
      "\n",
      "第四百五十八条　基于合同关系等产生的占有，有关不动产或者动产的使用、收益、违约责任等，按照合同约定；合同没有约定或者约定不明确的，依照有关法律规定。\n",
      "\n",
      "第四百五十九条　占有人因使用占有的不动产或者动产，致使该不动产或者动产受到损害的，恶意占有人应当承担赔偿责任。\n",
      "\n",
      "第四百六十条　不动产或者动产被占有人占有的，权利人可以请求返还原物及其孳息；但是，应当支付善意占有人因维护该不动产或者动产支出的必要费用。\n",
      "\n",
      "第四百六十一条　占有的不动产或者动产毁损、灭失，该不动产或者动产的权利人请求赔偿的，占有人应当将因毁损、灭失取得的保险金、赔偿金或者补偿金等返还给权利人；权利人的损害未得到足够弥补的，恶意占有人还应当赔偿损失。' metadata={'source': 'knowledge_base/sample.docx'}\n",
      "page_content='第二百一十九条　利害关系人不得公开、非法使用权利人的不动产登记资料。\n",
      "\n",
      "第二百二十条　权利人、利害关系人认为不动产登记簿记载的事项错误的，可以申请更正登记。不动产登记簿记载的权利人书面同意更正或者有证据证明登记确有错误的，登记机构应当予以更正。\n",
      "\n",
      "不动产登记簿记载的权利人不同意更正的，利害关系人可以申请异议登记。登记机构予以异议登记，申请人自异议登记之日起十五日内不提起诉讼的，异议登记失效。异议登记不当，造成权利人损害的，权利人可以向申请人请求损害赔偿。\n",
      "\n",
      "第二百二十一条　当事人签订买卖房屋的协议或者签订其他不动产物权的协议，为保障将来实现物权，按照约定可以向登记机构申请预告登记。预告登记后，未经预告登记的权利人同意，处分该不动产的，不发生物权效力。\n",
      "\n",
      "预告登记后，债权消灭或者自能够进行不动产登记之日起九十日内未申请登记的，预告登记失效。' metadata={'source': 'knowledge_base/sample.docx'}\n",
      "page_content='第二百四十二条　法律规定专属于国家所有的不动产和动产，任何组织或者个人不能取得所有权。\n",
      "\n",
      "第二百四十三条　为了公共利益的需要，依照法律规定的权限和程序可以征收集体所有的土地和组织、个人的房屋以及其他不动产。\n",
      "\n",
      "征收集体所有的土地，应当依法及时足额支付土地补偿费、安置补助费以及农村村民住宅、其他地上附着物和青苗等的补偿费用，并安排被征地农民的社会保障费用，保障被征地农民的生活，维护被征地农民的合法权益。\n",
      "\n",
      "征收组织、个人的房屋以及其他不动产，应当依法给予征收补偿，维护被征收人的合法权益；征收个人住宅的，还应当保障被征收人的居住条件。\n",
      "\n",
      "任何组织或者个人不得贪污、挪用、私分、截留、拖欠征收补偿费等费用。\n",
      "\n",
      "第二百四十四条　国家对耕地实行特殊保护，严格限制农用地转为建设用地，控制建设用地总量。不得违反法律规定的权限和程序征收集体所有的土地。' metadata={'source': 'knowledge_base/sample.docx'}\n"
     ]
    }
   ],
   "execution_count": 3
  },
  {
   "metadata": {
    "ExecuteTime": {
     "end_time": "2025-09-15T07:04:10.846176Z",
     "start_time": "2025-09-15T07:04:10.746055Z"
    }
   },
   "cell_type": "code",
   "source": [
    "# 通过检索器检索\n",
    "query = \"不动产或者动产被占有人占有怎么办\"\n",
    "# 获取向量存储检索器\n",
    "retriever = vectorstore.as_retriever(\n",
    "    search_type=\"similarity\",  # 检索方式，similarity 或 mmr\n",
    "    search_kwargs={\"k\": 3},\n",
    ")\n",
    "sim_docs = retriever.invoke(query)\n",
    "for doc in sim_docs:\n",
    "    print(doc)\n"
   ],
   "id": "e357467e815cb481",
   "outputs": [
    {
     "name": "stdout",
     "output_type": "stream",
     "text": [
      "page_content='第四百五十七条　留置权人对留置财产丧失占有或者留置权人接受债务人另行提供担保的，留置权消灭。\n",
      "\n",
      "第五分编　占有\n",
      "\n",
      "第二十章　占有\n",
      "\n",
      "第四百五十八条　基于合同关系等产生的占有，有关不动产或者动产的使用、收益、违约责任等，按照合同约定；合同没有约定或者约定不明确的，依照有关法律规定。\n",
      "\n",
      "第四百五十九条　占有人因使用占有的不动产或者动产，致使该不动产或者动产受到损害的，恶意占有人应当承担赔偿责任。\n",
      "\n",
      "第四百六十条　不动产或者动产被占有人占有的，权利人可以请求返还原物及其孳息；但是，应当支付善意占有人因维护该不动产或者动产支出的必要费用。\n",
      "\n",
      "第四百六十一条　占有的不动产或者动产毁损、灭失，该不动产或者动产的权利人请求赔偿的，占有人应当将因毁损、灭失取得的保险金、赔偿金或者补偿金等返还给权利人；权利人的损害未得到足够弥补的，恶意占有人还应当赔偿损失。' metadata={'source': 'knowledge_base/sample.docx'}\n",
      "page_content='第二百一十九条　利害关系人不得公开、非法使用权利人的不动产登记资料。\n",
      "\n",
      "第二百二十条　权利人、利害关系人认为不动产登记簿记载的事项错误的，可以申请更正登记。不动产登记簿记载的权利人书面同意更正或者有证据证明登记确有错误的，登记机构应当予以更正。\n",
      "\n",
      "不动产登记簿记载的权利人不同意更正的，利害关系人可以申请异议登记。登记机构予以异议登记，申请人自异议登记之日起十五日内不提起诉讼的，异议登记失效。异议登记不当，造成权利人损害的，权利人可以向申请人请求损害赔偿。\n",
      "\n",
      "第二百二十一条　当事人签订买卖房屋的协议或者签订其他不动产物权的协议，为保障将来实现物权，按照约定可以向登记机构申请预告登记。预告登记后，未经预告登记的权利人同意，处分该不动产的，不发生物权效力。\n",
      "\n",
      "预告登记后，债权消灭或者自能够进行不动产登记之日起九十日内未申请登记的，预告登记失效。' metadata={'source': 'knowledge_base/sample.docx'}\n",
      "page_content='第二章　物权的设立、变更、转让和消灭\n",
      "\n",
      "第一节　不动产登记\n",
      "\n",
      "第二百零九条　不动产物权的设立、变更、转让和消灭，经依法登记，发生效力；未经登记，不发生效力，但是法律另有规定的除外。\n",
      "\n",
      "依法属于国家所有的自然资源，所有权可以不登记。\n",
      "\n",
      "第二百一十条　不动产登记，由不动产所在地的登记机构办理。\n",
      "\n",
      "国家对不动产实行统一登记制度。统一登记的范围、登记机构和登记办法，由法律、行政法规规定。\n",
      "\n",
      "第二百一十一条　当事人申请登记，应当根据不同登记事项提供权属证明和不动产界址、面积等必要材料。\n",
      "\n",
      "第二百一十二条　登记机构应当履行下列职责：\n",
      "\n",
      "（一）查验申请人提供的权属证明和其他必要材料；\n",
      "\n",
      "（二）就有关登记事项询问申请人；\n",
      "\n",
      "（三）如实、及时登记有关事项；\n",
      "\n",
      "（四）法律、行政法规规定的其他职责。\n",
      "\n",
      "申请登记的不动产的有关情况需要进一步证明的，登记机构可以要求申请人补充材料，必要时可以实地查看。' metadata={'source': 'knowledge_base/sample.docx'}\n"
     ]
    },
    {
     "name": "stderr",
     "output_type": "stream",
     "text": [
      "huggingface/tokenizers: The current process just got forked, after parallelism has already been used. Disabling parallelism to avoid deadlocks...\n",
      "To disable this warning, you can either:\n",
      "\t- Avoid using `tokenizers` before the fork if possible\n",
      "\t- Explicitly set the environment variable TOKENIZERS_PARALLELISM=(true | false)\n"
     ]
    }
   ],
   "execution_count": 5
  }
 ],
 "metadata": {
  "kernelspec": {
   "display_name": "Python 3",
   "language": "python",
   "name": "python3"
  },
  "language_info": {
   "codemirror_mode": {
    "name": "ipython",
    "version": 2
   },
   "file_extension": ".py",
   "mimetype": "text/x-python",
   "name": "python",
   "nbconvert_exporter": "python",
   "pygments_lexer": "ipython2",
   "version": "2.7.6"
  }
 },
 "nbformat": 4,
 "nbformat_minor": 5
}
